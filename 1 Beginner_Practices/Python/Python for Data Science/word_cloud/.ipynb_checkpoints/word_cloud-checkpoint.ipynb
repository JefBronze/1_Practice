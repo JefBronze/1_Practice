{
 "cells": [
  {
   "cell_type": "code",
   "execution_count": 16,
   "id": "7bf5d123",
   "metadata": {},
   "outputs": [],
   "source": [
    "import collections"
   ]
  },
  {
   "cell_type": "code",
   "execution_count": 17,
   "id": "0e05c906",
   "metadata": {},
   "outputs": [],
   "source": [
    "file=open('98-0.txt', encoding=\"utf8\")"
   ]
  },
  {
   "cell_type": "code",
   "execution_count": 18,
   "id": "adeb77cf",
   "metadata": {},
   "outputs": [],
   "source": [
    "stopwords = set(line.strip() for line in open('stopwords'))"
   ]
  },
  {
   "cell_type": "code",
   "execution_count": 19,
   "id": "10e1d115",
   "metadata": {},
   "outputs": [],
   "source": [
    "wordcount={}"
   ]
  },
  {
   "cell_type": "code",
   "execution_count": 20,
   "id": "a8c6e2da",
   "metadata": {},
   "outputs": [],
   "source": [
    "for word in file.read().lower().split():\n",
    "    word = word.replace(\".\",\"\")\n",
    "    word = word.replace(\",\",\"\")\n",
    "    word = word.replace(\"\\\"\",\"\")\n",
    "    word = word.replace(\"“\",\"\")\n",
    "    if word not in stopwords:\n",
    "        if word not in wordcount:\n",
    "            wordcount[word] = 1\n",
    "        else:\n",
    "            wordcount[word] += 1"
   ]
  },
  {
   "cell_type": "code",
   "execution_count": 21,
   "id": "a0123344",
   "metadata": {},
   "outputs": [],
   "source": [
    "d = collections.Counter(wordcount)"
   ]
  },
  {
   "cell_type": "code",
   "execution_count": 23,
   "id": "ce4b2e16",
   "metadata": {},
   "outputs": [
    {
     "name": "stdout",
     "output_type": "stream",
     "text": [
      "said :  642\n",
      "mr :  616\n",
      "one :  420\n",
      "lorry :  313\n",
      "will :  290\n",
      "upon :  289\n",
      "little :  264\n",
      "man :  259\n",
      "defarge :  259\n",
      "time :  236\n",
      "hand :  231\n",
      "now :  224\n",
      "miss :  222\n",
      "two :  212\n",
      "know :  208\n"
     ]
    }
   ],
   "source": [
    "for word, count in d.most_common(15):\n",
    "\tprint(word, \": \", count)"
   ]
  },
  {
   "cell_type": "code",
   "execution_count": null,
   "id": "80020cfc",
   "metadata": {},
   "outputs": [],
   "source": []
  }
 ],
 "metadata": {
  "kernelspec": {
   "display_name": "Python 3 (ipykernel)",
   "language": "python",
   "name": "python3"
  },
  "language_info": {
   "codemirror_mode": {
    "name": "ipython",
    "version": 3
   },
   "file_extension": ".py",
   "mimetype": "text/x-python",
   "name": "python",
   "nbconvert_exporter": "python",
   "pygments_lexer": "ipython3",
   "version": "3.10.4"
  }
 },
 "nbformat": 4,
 "nbformat_minor": 5
}
